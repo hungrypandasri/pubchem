{
 "cells": [
  {
   "cell_type": "code",
   "execution_count": 43,
   "metadata": {},
   "outputs": [
    {
     "name": "stdout",
     "output_type": "stream",
     "text": [
      "Processing d:\\cmu_sem_2\\creating scientific research software\\project\\pubchem\n",
      "  Preparing metadata (setup.py): started\n",
      "  Preparing metadata (setup.py): finished with status 'done'\n",
      "Requirement already satisfied: requests in c:\\users\\sriram\\appdata\\local\\programs\\python\\python311\\lib\\site-packages (from pubchem-toolkit==0.0.2) (2.31.0)\n",
      "Requirement already satisfied: charset-normalizer<4,>=2 in c:\\users\\sriram\\appdata\\local\\programs\\python\\python311\\lib\\site-packages (from requests->pubchem-toolkit==0.0.2) (3.3.2)\n",
      "Requirement already satisfied: idna<4,>=2.5 in c:\\users\\sriram\\appdata\\local\\programs\\python\\python311\\lib\\site-packages (from requests->pubchem-toolkit==0.0.2) (3.6)\n",
      "Requirement already satisfied: urllib3<3,>=1.21.1 in c:\\users\\sriram\\appdata\\local\\programs\\python\\python311\\lib\\site-packages (from requests->pubchem-toolkit==0.0.2) (1.26.18)\n",
      "Requirement already satisfied: certifi>=2017.4.17 in c:\\users\\sriram\\appdata\\local\\programs\\python\\python311\\lib\\site-packages (from requests->pubchem-toolkit==0.0.2) (2023.11.17)\n",
      "Building wheels for collected packages: pubchem-toolkit\n",
      "  Building wheel for pubchem-toolkit (setup.py): started\n",
      "  Building wheel for pubchem-toolkit (setup.py): finished with status 'done'\n",
      "  Created wheel for pubchem-toolkit: filename=pubchem_toolkit-0.0.2-py3-none-any.whl size=1474 sha256=4a1a40037154f2cd104aeed028d3e5cf3f2e50fb4416601693346a27adec573a\n",
      "  Stored in directory: C:\\Users\\Sriram\\AppData\\Local\\Temp\\pip-ephem-wheel-cache-9w98908s\\wheels\\e4\\b5\\3e\\2ebb732513cc294c12549007ee1dff0f174138ae2d17e071ba\n",
      "Successfully built pubchem-toolkit\n",
      "Installing collected packages: pubchem-toolkit\n",
      "  Attempting uninstall: pubchem-toolkit\n",
      "    Found existing installation: pubchem-toolkit 0.0.2\n",
      "    Uninstalling pubchem-toolkit-0.0.2:\n",
      "      Successfully uninstalled pubchem-toolkit-0.0.2\n",
      "Successfully installed pubchem-toolkit-0.0.2\n"
     ]
    },
    {
     "name": "stderr",
     "output_type": "stream",
     "text": [
      "\n",
      "[notice] A new release of pip is available: 23.2.1 -> 24.0\n",
      "[notice] To update, run: python.exe -m pip install --upgrade pip\n"
     ]
    }
   ],
   "source": [
    "!pip install .\n",
    "\n"
   ]
  },
  {
   "cell_type": "code",
   "execution_count": null,
   "metadata": {},
   "outputs": [],
   "source": []
  },
  {
   "cell_type": "code",
   "execution_count": 44,
   "metadata": {},
   "outputs": [
    {
     "name": "stderr",
     "output_type": "stream",
     "text": [
      "....\n",
      "----------------------------------------------------------------------\n",
      "Ran 4 tests in 4.668s\n",
      "\n",
      "OK\n"
     ]
    }
   ],
   "source": [
    "!python -m unittest discover tests_unittest\n",
    "\n"
   ]
  },
  {
   "cell_type": "code",
   "execution_count": 29,
   "metadata": {},
   "outputs": [],
   "source": [
    "from pubchem_toolkit import compound_search\n",
    "from pubchem_toolkit import auto_complete\n",
    "\n"
   ]
  },
  {
   "cell_type": "code",
   "execution_count": 32,
   "metadata": {},
   "outputs": [
    {
     "name": "stdout",
     "output_type": "stream",
     "text": [
      "Compound Properties:\n",
      "Compound: 1\n",
      "Compound Complexity: 212\n",
      "Count: 3\n",
      "Fingerprint: None\n",
      "IUPAC Name: 2-acetoxybenzoic acid\n",
      "InChI: InChI=1S/C9H8O4/c1-6(10)13-8-5-3-2-4-7(8)9(11)12/h2-5H,1H3,(H,11,12)\n",
      "InChIKey: BSYNRYMUTXBXSQ-UHFFFAOYSA-N\n",
      "Log P: 1.2\n",
      "Mass: 180.04225873\n",
      "Molecular Formula: C9H8O4\n",
      "Molecular Weight: 180.16\n",
      "SMILES: CC(=O)OC1=CC=CC=C1C(=O)O\n",
      "Topological: 63.6\n",
      "Weight: 180.04225873\n"
     ]
    }
   ],
   "source": [
    "# manual tests for v 0.0.1\n",
    "# compound_name = \"aspirin\"\n",
    "# properties = compound_search.get_compound_properties(compound_name)\n",
    "# print(\"Compound Properties:\")\n",
    "# for key, value in properties.items():\n",
    "#     print(f\"{key}: {value}\")\n",
    "\n",
    "# manual tests for v 0.0.2\n",
    "# Retrieve properties for the compound \"aspirin\"\n",
    "\n",
    "from pubchem_toolkit.compound_search import get_compound_properties\n",
    "\n",
    "compound_name = \"aspirin\"\n",
    "properties = compound_search.get_compound_properties(compound_name)\n",
    "print(\"Compound Properties:\")\n",
    "for key, value in properties.items():\n",
    "    print(f\"{key}: {value}\")\n",
    "\n"
   ]
  },
  {
   "cell_type": "code",
   "execution_count": 33,
   "metadata": {},
   "outputs": [
    {
     "name": "stdout",
     "output_type": "stream",
     "text": [
      "Compounds: ['Aspidinin', 'aspirin', 'NO-aspirin', 'Aspirin sodium', 'Aspirin DL-lysine', 'Aspirin calcium']\n",
      "Genes: ['Egfr', 'egfra', 'egfrb', 'Egfros', 'Egfrap']\n",
      "Assays: ['Chain A, RNA-directed RNA polymerase (NS5B) (P68) - Protein Target', 'Inhibition of HIV2 reverse transcriptase p68/p54 expressed in Escherichia coli - Assay Name', 'Inhibition of HIV2 reverse transcriptase p68/p54 expressed in Escherichia coli at 495 uM - Assay Name', 'Binding affinity to wild-type human partial length PRKCH (S324 to P683 residues) expressed in Escherichia coli BL21 at 1 uM by Kinomescan method relative to control - Assay Name', 'Inhibition of wild type human partial length PRKCH (S324 to P683 residues) expressed in bacterial expression system at 1 uM by Kinomescan method relative to control - Assay Name', 'Inhibition of wild-type human partial length PRKCH (S324 to P683 residues) expressed in bacterial expression system at 1 uM by Kinomescan method relative to control - Assay Name', 'Inhibition of wild-type human partial length PRKCH (S324 to P683 residues) expressed in bacterial expression system at 10 uM by Kinomescan method relative to control - Assay Name', 'Inhibition of wild-type human partial length PKCH (S324 to P683 residues) expressed in bacterial expression system assessed as residual activity at 50 nM by Kinomescan method relative to control - Assay Name']\n",
      "Taxa: ['mousetail', 'mousebirds', 'mouse tick', 'mouse cone', 'mouse moth']\n"
     ]
    }
   ],
   "source": [
    "from pubchem_toolkit.auto_complete import autocomplete_search\n",
    "\n",
    "# Perform auto-complete search for compounds with the query \"aspirin\"\n",
    "compounds = autocomplete_search(\"aspirriiinnin\", dictionary=\"compound\", limit=6)\n",
    "print(\"Compounds:\", compounds)\n",
    "\n",
    "# Perform auto-complete search for genes with the query \"egfr\"\n",
    "genes = autocomplete_search(\"egfr\", dictionary=\"gene\", limit=5)\n",
    "print(\"Genes:\", genes)\n",
    "\n",
    "# Perform auto-complete search for assays with the query \"p68\"\n",
    "assays = autocomplete_search(\"p68\", dictionary=\"assay\", limit=8)\n",
    "print(\"Assays:\", assays)\n",
    "\n",
    "# Perform auto-complete search for taxa with the query \"mouse\"\n",
    "taxa = autocomplete_search(\"mouse\", dictionary=\"taxonomy\", limit=5)\n",
    "print(\"Taxa:\", taxa)\n"
   ]
  },
  {
   "cell_type": "code",
   "execution_count": 35,
   "metadata": {},
   "outputs": [
    {
     "name": "stdout",
     "output_type": "stream",
     "text": [
      "Collecting black\n",
      "  Obtaining dependency information for black from https://files.pythonhosted.org/packages/0f/11/fa05ac9429d971d0fc10da85f24dafc3fa5788733fbd0d1c186b7577cefd/black-24.4.0-cp311-cp311-win_amd64.whl.metadata\n",
      "  Downloading black-24.4.0-cp311-cp311-win_amd64.whl.metadata (76 kB)\n",
      "     ---------------------------------------- 0.0/76.4 kB ? eta -:--:--\n",
      "     ----- ---------------------------------- 10.2/76.4 kB ? eta -:--:--\n",
      "     ----- ---------------------------------- 10.2/76.4 kB ? eta -:--:--\n",
      "     --------------- ---------------------- 30.7/76.4 kB 217.9 kB/s eta 0:00:01\n",
      "     -------------------- ----------------- 41.0/76.4 kB 217.9 kB/s eta 0:00:01\n",
      "     ----------------------------------- -- 71.7/76.4 kB 326.8 kB/s eta 0:00:01\n",
      "     -------------------------------------- 76.4/76.4 kB 352.1 kB/s eta 0:00:00\n",
      "Collecting pytest\n",
      "  Obtaining dependency information for pytest from https://files.pythonhosted.org/packages/4d/7e/c79cecfdb6aa85c6c2e3cf63afc56d0f165f24f5c66c03c695c4d9b84756/pytest-8.1.1-py3-none-any.whl.metadata\n",
      "  Downloading pytest-8.1.1-py3-none-any.whl.metadata (7.6 kB)\n",
      "Requirement already satisfied: click>=8.0.0 in c:\\users\\sriram\\appdata\\local\\programs\\python\\python311\\lib\\site-packages (from black) (8.1.7)\n",
      "Requirement already satisfied: mypy-extensions>=0.4.3 in c:\\users\\sriram\\appdata\\local\\programs\\python\\python311\\lib\\site-packages (from black) (1.0.0)\n",
      "Requirement already satisfied: packaging>=22.0 in c:\\users\\sriram\\appdata\\local\\programs\\python\\python311\\lib\\site-packages (from black) (23.2)\n",
      "Collecting pathspec>=0.9.0 (from black)\n",
      "  Obtaining dependency information for pathspec>=0.9.0 from https://files.pythonhosted.org/packages/cc/20/ff623b09d963f88bfde16306a54e12ee5ea43e9b597108672ff3a408aad6/pathspec-0.12.1-py3-none-any.whl.metadata\n",
      "  Downloading pathspec-0.12.1-py3-none-any.whl.metadata (21 kB)\n",
      "Requirement already satisfied: platformdirs>=2 in c:\\users\\sriram\\appdata\\local\\programs\\python\\python311\\lib\\site-packages (from black) (4.1.0)\n",
      "Collecting iniconfig (from pytest)\n",
      "  Obtaining dependency information for iniconfig from https://files.pythonhosted.org/packages/ef/a6/62565a6e1cf69e10f5727360368e451d4b7f58beeac6173dc9db836a5b46/iniconfig-2.0.0-py3-none-any.whl.metadata\n",
      "  Downloading iniconfig-2.0.0-py3-none-any.whl.metadata (2.6 kB)\n",
      "Collecting pluggy<2.0,>=1.4 (from pytest)\n",
      "  Obtaining dependency information for pluggy<2.0,>=1.4 from https://files.pythonhosted.org/packages/88/5f/e351af9a41f866ac3f1fac4ca0613908d9a41741cfcf2228f4ad853b697d/pluggy-1.5.0-py3-none-any.whl.metadata\n",
      "  Downloading pluggy-1.5.0-py3-none-any.whl.metadata (4.8 kB)\n",
      "Requirement already satisfied: colorama in c:\\users\\sriram\\appdata\\local\\programs\\python\\python311\\lib\\site-packages (from pytest) (0.4.6)\n",
      "Downloading black-24.4.0-cp311-cp311-win_amd64.whl (1.4 MB)\n",
      "   ---------------------------------------- 0.0/1.4 MB ? eta -:--:--\n",
      "   ---- ----------------------------------- 0.1/1.4 MB 4.2 MB/s eta 0:00:01\n",
      "   --------- ------------------------------ 0.3/1.4 MB 5.2 MB/s eta 0:00:01\n",
      "   --------------------- ------------------ 0.7/1.4 MB 6.7 MB/s eta 0:00:01\n",
      "   ---------------------------------------- 1.4/1.4 MB 8.7 MB/s eta 0:00:00\n",
      "Downloading pytest-8.1.1-py3-none-any.whl (337 kB)\n",
      "   ---------------------------------------- 0.0/337.4 kB ? eta -:--:--\n",
      "   --------------------------------------- 337.4/337.4 kB 20.4 MB/s eta 0:00:00\n",
      "Downloading pathspec-0.12.1-py3-none-any.whl (31 kB)\n",
      "Downloading pluggy-1.5.0-py3-none-any.whl (20 kB)\n",
      "Downloading iniconfig-2.0.0-py3-none-any.whl (5.9 kB)\n",
      "Installing collected packages: pluggy, pathspec, iniconfig, pytest, black\n",
      "Successfully installed black-24.4.0 iniconfig-2.0.0 pathspec-0.12.1 pluggy-1.5.0 pytest-8.1.1\n"
     ]
    },
    {
     "name": "stderr",
     "output_type": "stream",
     "text": [
      "\n",
      "[notice] A new release of pip is available: 23.2.1 -> 24.0\n",
      "[notice] To update, run: python.exe -m pip install --upgrade pip\n"
     ]
    }
   ],
   "source": [
    "!pip install black pytest\n"
   ]
  },
  {
   "cell_type": "code",
   "execution_count": 41,
   "metadata": {},
   "outputs": [
    {
     "name": "stderr",
     "output_type": "stream",
     "text": [
      "Skipping .ipynb files as Jupyter dependencies are not installed.\n",
      "You can fix this by running ``pip install \"black[jupyter]\"``\n",
      "reformatted D:\\CMU_Sem_2\\Creating Scientific Research Software\\Project\\PubChem\\tests\\tests_autocomplete_search.py\n",
      "reformatted D:\\CMU_Sem_2\\Creating Scientific Research Software\\Project\\PubChem\\setup.py\n",
      "reformatted D:\\CMU_Sem_2\\Creating Scientific Research Software\\Project\\PubChem\\pubchem_toolkit\\auto_complete.py\n",
      "reformatted D:\\CMU_Sem_2\\Creating Scientific Research Software\\Project\\PubChem\\pubchem_toolkit\\compound_search.py\n",
      "reformatted D:\\CMU_Sem_2\\Creating Scientific Research Software\\Project\\PubChem\\tests\\tests_compound_search.py\n",
      "\n",
      "All done! ✨ 🍰 ✨\n",
      "5 files reformatted, 1 file left unchanged.\n"
     ]
    }
   ],
   "source": [
    "!black ."
   ]
  },
  {
   "cell_type": "code",
   "execution_count": 45,
   "metadata": {},
   "outputs": [
    {
     "name": "stdout",
     "output_type": "stream",
     "text": [
      "\u001b[1m============================= test session starts =============================\u001b[0m\n",
      "platform win32 -- Python 3.11.5, pytest-8.1.1, pluggy-1.5.0\n",
      "rootdir: d:\\CMU_Sem_2\\Creating Scientific Research Software\\Project\\PubChem\n",
      "plugins: anyio-4.1.0\n",
      "collected 0 items\n",
      "\n",
      "\u001b[33m============================ \u001b[33mno tests ran\u001b[0m\u001b[33m in 0.01s\u001b[0m\u001b[33m ============================\u001b[0m\n"
     ]
    }
   ],
   "source": [
    "!pytest tests_pytest\n"
   ]
  },
  {
   "cell_type": "code",
   "execution_count": 50,
   "metadata": {},
   "outputs": [
    {
     "name": "stderr",
     "output_type": "stream",
     "text": [
      "WARNING: Skipping tree as it is not installed.\n"
     ]
    },
    {
     "name": "stdout",
     "output_type": "stream",
     "text": [
      "Folder PATH listing for volume New Volume\n",
      "Volume serial number is 4CF6-6BBC\n",
      "D:.\n",
      "+---.pytest_cache\n",
      "�   +---v\n",
      "�       +---cache\n",
      "+---build\n",
      "�   +---bdist.win-amd64\n",
      "+---pubchem_toolkit\n",
      "�   +---__pycache__\n",
      "+---pubchem_toolkit.egg-info\n",
      "+---tests_pytest\n",
      "+---tests_unittest\n",
      "    +---__pycache__\n"
     ]
    }
   ],
   "source": [
    "! pip uninstall tree\n",
    "!tree\n"
   ]
  },
  {
   "cell_type": "code",
   "execution_count": 51,
   "metadata": {},
   "outputs": [
    {
     "name": "stdout",
     "output_type": "stream",
     "text": [
      "Collecting treer\n",
      "  Obtaining dependency information for treer from https://files.pythonhosted.org/packages/87/3e/1db0f5377a2471ac5b9d3ed7e69e0b608d04ab1cd69b161ed57844368287/Treer-0.1.0-py3-none-any.whl.metadata\n",
      "  Downloading Treer-0.1.0-py3-none-any.whl.metadata (2.2 kB)\n",
      "Collecting iro==0.8.1 (from treer)\n",
      "  Obtaining dependency information for iro==0.8.1 from https://files.pythonhosted.org/packages/6d/77/b951f16268178861ffda11f85576c8c26e116ddea9d655f05a75c17b7952/Iro-0.8.1-py3-none-any.whl.metadata\n",
      "  Downloading Iro-0.8.1-py3-none-any.whl.metadata (2.0 kB)\n",
      "Downloading Treer-0.1.0-py3-none-any.whl (5.3 kB)\n",
      "Downloading Iro-0.8.1-py3-none-any.whl (8.0 kB)\n",
      "Installing collected packages: iro, treer\n",
      "Successfully installed iro-0.8.1 treer-0.1.0\n",
      "Note: you may need to restart the kernel to use updated packages.\n"
     ]
    },
    {
     "name": "stderr",
     "output_type": "stream",
     "text": [
      "\n",
      "[notice] A new release of pip is available: 23.2.1 -> 24.0\n",
      "[notice] To update, run: python.exe -m pip install --upgrade pip\n"
     ]
    }
   ],
   "source": [
    "%pip install treer\n"
   ]
  },
  {
   "cell_type": "code",
   "execution_count": 56,
   "metadata": {},
   "outputs": [
    {
     "name": "stderr",
     "output_type": "stream",
     "text": [
      "'treer' is not recognized as an internal or external command,\n",
      "operable program or batch file.\n"
     ]
    }
   ],
   "source": [
    "!treer\n"
   ]
  },
  {
   "cell_type": "code",
   "execution_count": null,
   "metadata": {},
   "outputs": [],
   "source": []
  }
 ],
 "metadata": {
  "kernelspec": {
   "display_name": "Python 3",
   "language": "python",
   "name": "python3"
  },
  "language_info": {
   "codemirror_mode": {
    "name": "ipython",
    "version": 3
   },
   "file_extension": ".py",
   "mimetype": "text/x-python",
   "name": "python",
   "nbconvert_exporter": "python",
   "pygments_lexer": "ipython3",
   "version": "3.11.5"
  }
 },
 "nbformat": 4,
 "nbformat_minor": 2
}
